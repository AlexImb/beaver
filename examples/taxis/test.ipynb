{
 "cells": [
  {
   "cell_type": "code",
   "execution_count": 14,
   "metadata": {},
   "outputs": [
    {
     "data": {
      "text/html": [
       "<div>\n",
       "<style scoped>\n",
       "    .dataframe tbody tr th:only-of-type {\n",
       "        vertical-align: middle;\n",
       "    }\n",
       "\n",
       "    .dataframe tbody tr th {\n",
       "        vertical-align: top;\n",
       "    }\n",
       "\n",
       "    .dataframe thead th {\n",
       "        text-align: right;\n",
       "    }\n",
       "</style>\n",
       "<table border=\"1\" class=\"dataframe\">\n",
       "  <thead>\n",
       "    <tr style=\"text-align: right;\">\n",
       "      <th></th>\n",
       "      <th>mae</th>\n",
       "    </tr>\n",
       "  </thead>\n",
       "  <tbody>\n",
       "    <tr>\n",
       "      <th>0</th>\n",
       "      <td>161.643923</td>\n",
       "    </tr>\n",
       "  </tbody>\n",
       "</table>\n",
       "</div>"
      ],
      "text/plain": [
       "          mae\n",
       "0  161.643923"
      ]
     },
     "execution_count": 14,
     "metadata": {},
     "output_type": "execute_result"
    }
   ],
   "source": [
    "import pandas as pd\n",
    "import sqlite3\n",
    "\n",
    "sql = \"\"\"\n",
    "SELECT *\n",
    "FROM metrics\n",
    "\"\"\"\n",
    "\n",
    "with sqlite3.connect('taxis.sqlite') as con:\n",
    "    df = pd.read_sql_query(sql, con)\n",
    "\n",
    "df"
   ]
  },
  {
   "cell_type": "code",
   "execution_count": 2,
   "metadata": {},
   "outputs": [
    {
     "data": {
      "text/html": [
       "<div>\n",
       "<style scoped>\n",
       "    .dataframe tbody tr th:only-of-type {\n",
       "        vertical-align: middle;\n",
       "    }\n",
       "\n",
       "    .dataframe tbody tr th {\n",
       "        vertical-align: top;\n",
       "    }\n",
       "\n",
       "    .dataframe thead th {\n",
       "        text-align: right;\n",
       "    }\n",
       "</style>\n",
       "<table border=\"1\" class=\"dataframe\">\n",
       "  <thead>\n",
       "    <tr style=\"text-align: right;\">\n",
       "      <th></th>\n",
       "      <th>loop_id</th>\n",
       "      <th>label_created_at</th>\n",
       "      <th>label</th>\n",
       "      <th>prediction</th>\n",
       "      <th>model_name</th>\n",
       "    </tr>\n",
       "  </thead>\n",
       "  <tbody>\n",
       "    <tr>\n",
       "      <th>0</th>\n",
       "      <td>f53e056b-30ce-497c-9310-35d0f09418a8</td>\n",
       "      <td>2022-04-25 23:59:22.249679</td>\n",
       "      <td>\"849\"</td>\n",
       "      <td>0.000000</td>\n",
       "      <td>Linear regression</td>\n",
       "    </tr>\n",
       "    <tr>\n",
       "      <th>1</th>\n",
       "      <td>f0a34ce8-3ae5-426c-b69a-c2a2a1a5ef91</td>\n",
       "      <td>2022-04-25 23:59:22.265553</td>\n",
       "      <td>\"1294\"</td>\n",
       "      <td>0.000000</td>\n",
       "      <td>Linear regression</td>\n",
       "    </tr>\n",
       "    <tr>\n",
       "      <th>2</th>\n",
       "      <td>dcd7a03a-8547-4895-9b32-e64b5960b7f7</td>\n",
       "      <td>2022-04-25 23:59:22.282599</td>\n",
       "      <td>\"408\"</td>\n",
       "      <td>0.000000</td>\n",
       "      <td>Linear regression</td>\n",
       "    </tr>\n",
       "    <tr>\n",
       "      <th>3</th>\n",
       "      <td>73328e13-1c31-4b5d-ac34-fbdc9ef81889</td>\n",
       "      <td>2022-04-25 23:59:24.830488</td>\n",
       "      <td>\"849\"</td>\n",
       "      <td>49.829992</td>\n",
       "      <td>Linear regression</td>\n",
       "    </tr>\n",
       "    <tr>\n",
       "      <th>4</th>\n",
       "      <td>6721e486-127f-4536-bd35-46ec5a2d7ec4</td>\n",
       "      <td>2022-04-25 23:59:24.849660</td>\n",
       "      <td>\"1294\"</td>\n",
       "      <td>49.829992</td>\n",
       "      <td>Linear regression</td>\n",
       "    </tr>\n",
       "    <tr>\n",
       "      <th>5</th>\n",
       "      <td>ce0528f2-e625-4917-9c16-5bf4e616a0f0</td>\n",
       "      <td>2022-04-25 23:59:24.864501</td>\n",
       "      <td>\"408\"</td>\n",
       "      <td>49.829992</td>\n",
       "      <td>Linear regression</td>\n",
       "    </tr>\n",
       "  </tbody>\n",
       "</table>\n",
       "</div>"
      ],
      "text/plain": [
       "                                loop_id            label_created_at   label  \\\n",
       "0  f53e056b-30ce-497c-9310-35d0f09418a8  2022-04-25 23:59:22.249679   \"849\"   \n",
       "1  f0a34ce8-3ae5-426c-b69a-c2a2a1a5ef91  2022-04-25 23:59:22.265553  \"1294\"   \n",
       "2  dcd7a03a-8547-4895-9b32-e64b5960b7f7  2022-04-25 23:59:22.282599   \"408\"   \n",
       "3  73328e13-1c31-4b5d-ac34-fbdc9ef81889  2022-04-25 23:59:24.830488   \"849\"   \n",
       "4  6721e486-127f-4536-bd35-46ec5a2d7ec4  2022-04-25 23:59:24.849660  \"1294\"   \n",
       "5  ce0528f2-e625-4917-9c16-5bf4e616a0f0  2022-04-25 23:59:24.864501   \"408\"   \n",
       "\n",
       "   prediction         model_name  \n",
       "0    0.000000  Linear regression  \n",
       "1    0.000000  Linear regression  \n",
       "2    0.000000  Linear regression  \n",
       "3   49.829992  Linear regression  \n",
       "4   49.829992  Linear regression  \n",
       "5   49.829992  Linear regression  "
      ]
     },
     "execution_count": 2,
     "metadata": {},
     "output_type": "execute_result"
    }
   ],
   "source": [
    "df"
   ]
  },
  {
   "cell_type": "code",
   "execution_count": null,
   "metadata": {},
   "outputs": [],
   "source": []
  }
 ],
 "metadata": {
  "interpreter": {
   "hash": "00684e9b03e7e7a4629fc8cb54586ef308907b1a12c384e2849aca0e3ebda976"
  },
  "kernelspec": {
   "display_name": "Python 3.9.7 ('.venv': poetry)",
   "language": "python",
   "name": "python3"
  },
  "language_info": {
   "codemirror_mode": {
    "name": "ipython",
    "version": 3
   },
   "file_extension": ".py",
   "mimetype": "text/x-python",
   "name": "python",
   "nbconvert_exporter": "python",
   "pygments_lexer": "ipython3",
   "version": "3.9.7"
  },
  "orig_nbformat": 4
 },
 "nbformat": 4,
 "nbformat_minor": 2
}

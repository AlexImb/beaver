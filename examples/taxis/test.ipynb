{
 "cells": [
  {
   "cell_type": "code",
   "execution_count": 42,
   "metadata": {},
   "outputs": [
    {
     "data": {
      "text/html": [
       "<div>\n",
       "<style scoped>\n",
       "    .dataframe tbody tr th:only-of-type {\n",
       "        vertical-align: middle;\n",
       "    }\n",
       "\n",
       "    .dataframe tbody tr th {\n",
       "        vertical-align: top;\n",
       "    }\n",
       "\n",
       "    .dataframe thead th {\n",
       "        text-align: right;\n",
       "    }\n",
       "</style>\n",
       "<table border=\"1\" class=\"dataframe\">\n",
       "  <thead>\n",
       "    <tr style=\"text-align: right;\">\n",
       "      <th></th>\n",
       "      <th>loop_id</th>\n",
       "      <th>label_created_at</th>\n",
       "      <th>label</th>\n",
       "      <th>event</th>\n",
       "    </tr>\n",
       "  </thead>\n",
       "  <tbody>\n",
       "    <tr>\n",
       "      <th>0</th>\n",
       "      <td>0000006</td>\n",
       "      <td>2022-04-26 18:18:58.603620</td>\n",
       "      <td>\"114\"</td>\n",
       "      <td>{\"vendor_id\": \"2\", \"pickup_datetime\": \"2016-01...</td>\n",
       "    </tr>\n",
       "    <tr>\n",
       "      <th>1</th>\n",
       "      <td>0000003</td>\n",
       "      <td>2022-04-26 18:19:03.541883</td>\n",
       "      <td>\"280\"</td>\n",
       "      <td>{\"vendor_id\": \"1\", \"pickup_datetime\": \"2016-01...</td>\n",
       "    </tr>\n",
       "    <tr>\n",
       "      <th>2</th>\n",
       "      <td>0000021</td>\n",
       "      <td>2022-04-26 18:19:06.331570</td>\n",
       "      <td>\"61\"</td>\n",
       "      <td>{\"vendor_id\": \"1\", \"pickup_datetime\": \"2016-01...</td>\n",
       "    </tr>\n",
       "    <tr>\n",
       "      <th>3</th>\n",
       "      <td>0000010</td>\n",
       "      <td>2022-04-26 18:19:06.757547</td>\n",
       "      <td>\"263\"</td>\n",
       "      <td>{\"vendor_id\": \"2\", \"pickup_datetime\": \"2016-01...</td>\n",
       "    </tr>\n",
       "    <tr>\n",
       "      <th>4</th>\n",
       "      <td>0000002</td>\n",
       "      <td>2022-04-26 18:19:07.629880</td>\n",
       "      <td>\"408\"</td>\n",
       "      <td>{\"vendor_id\": \"2\", \"pickup_datetime\": \"2016-01...</td>\n",
       "    </tr>\n",
       "    <tr>\n",
       "      <th>5</th>\n",
       "      <td>0000014</td>\n",
       "      <td>2022-04-26 18:19:09.309438</td>\n",
       "      <td>\"220\"</td>\n",
       "      <td>{\"vendor_id\": \"2\", \"pickup_datetime\": \"2016-01...</td>\n",
       "    </tr>\n",
       "    <tr>\n",
       "      <th>6</th>\n",
       "      <td>0000040</td>\n",
       "      <td>2022-04-26 18:19:11.798177</td>\n",
       "      <td>\"87\"</td>\n",
       "      <td>{\"vendor_id\": \"1\", \"pickup_datetime\": \"2016-01...</td>\n",
       "    </tr>\n",
       "  </tbody>\n",
       "</table>\n",
       "</div>"
      ],
      "text/plain": [
       "   loop_id            label_created_at  label  \\\n",
       "0  0000006  2022-04-26 18:18:58.603620  \"114\"   \n",
       "1  0000003  2022-04-26 18:19:03.541883  \"280\"   \n",
       "2  0000021  2022-04-26 18:19:06.331570   \"61\"   \n",
       "3  0000010  2022-04-26 18:19:06.757547  \"263\"   \n",
       "4  0000002  2022-04-26 18:19:07.629880  \"408\"   \n",
       "5  0000014  2022-04-26 18:19:09.309438  \"220\"   \n",
       "6  0000040  2022-04-26 18:19:11.798177   \"87\"   \n",
       "\n",
       "                                               event  \n",
       "0  {\"vendor_id\": \"2\", \"pickup_datetime\": \"2016-01...  \n",
       "1  {\"vendor_id\": \"1\", \"pickup_datetime\": \"2016-01...  \n",
       "2  {\"vendor_id\": \"1\", \"pickup_datetime\": \"2016-01...  \n",
       "3  {\"vendor_id\": \"2\", \"pickup_datetime\": \"2016-01...  \n",
       "4  {\"vendor_id\": \"2\", \"pickup_datetime\": \"2016-01...  \n",
       "5  {\"vendor_id\": \"2\", \"pickup_datetime\": \"2016-01...  \n",
       "6  {\"vendor_id\": \"1\", \"pickup_datetime\": \"2016-01...  "
      ]
     },
     "execution_count": 42,
     "metadata": {},
     "output_type": "execute_result"
    }
   ],
   "source": [
    "import pandas as pd\n",
    "import sqlite3\n",
    "import datetime as dt\n",
    "\n",
    "sql = f\"\"\"\n",
    "SELECT *\n",
    "FROM labelled_events\n",
    "\"\"\"\n",
    "\n",
    "with sqlite3.connect('taxis.sqlite') as con:\n",
    "    df = pd.read_sql_query(sql, con)\n",
    "\n",
    "df"
   ]
  },
  {
   "cell_type": "code",
   "execution_count": 35,
   "metadata": {},
   "outputs": [
    {
     "data": {
      "text/plain": [
       "label    114.0\n",
       "Name: 0, dtype: float64"
      ]
     },
     "execution_count": 35,
     "metadata": {},
     "output_type": "execute_result"
    }
   ],
   "source": [
    "df.iloc[0].str.strip('\"').astype(float)"
   ]
  },
  {
   "cell_type": "code",
   "execution_count": null,
   "metadata": {},
   "outputs": [],
   "source": []
  }
 ],
 "metadata": {
  "interpreter": {
   "hash": "00684e9b03e7e7a4629fc8cb54586ef308907b1a12c384e2849aca0e3ebda976"
  },
  "kernelspec": {
   "display_name": "Python 3.9.7 ('.venv': poetry)",
   "language": "python",
   "name": "python3"
  },
  "language_info": {
   "codemirror_mode": {
    "name": "ipython",
    "version": 3
   },
   "file_extension": ".py",
   "mimetype": "text/x-python",
   "name": "python",
   "nbconvert_exporter": "python",
   "pygments_lexer": "ipython3",
   "version": "3.9.7"
  },
  "orig_nbformat": 4
 },
 "nbformat": 4,
 "nbformat_minor": 2
}
